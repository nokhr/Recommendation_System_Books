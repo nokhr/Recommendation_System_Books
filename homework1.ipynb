{
 "cells": [
  {
   "cell_type": "markdown",
   "metadata": {},
   "source": [
    "Начнём с загрузки основных необходимых библиотек. То, в чём будет возникать необходимость при дальныйшей обработке данных, будем подгружать по ходу выполнения"
   ]
  },
  {
   "cell_type": "code",
   "execution_count": 53,
   "metadata": {
    "collapsed": true
   },
   "outputs": [],
   "source": [
    "import numpy as np\n",
    "import matplotlib.pyplot as plt\n",
    "import pyspark\n",
    "import pandas as pd"
   ]
  },
  {
   "cell_type": "markdown",
   "metadata": {},
   "source": [
    "Создадим spark контекст и SQL контекст\n",
    "Впомнив, что pyspark был запущен из командной строки (pyspark --master local[2]), предположим, что оба контекста уже были установлены, и нам необходимо их просто получить из кода.\n",
    "Если не удаётся установить sql контекст, то необходимо проверить отсутствие блокировок (файлов вида *.lck в папке metastore_db, если таковые есть - завершаем выполнение pyspark, удаляем их и запускаем pyspark вновь).\n",
    "Сразу же считаем данные для анализа из текстовых файлов в папке на уровень выше.\n",
    "Данные, которые мы будем анализировать, содержатся в 3 частях - таблицах: ratings (рейтинг книг), books (информация о книгах), и users (информация о пользователях)."
   ]
  },
  {
   "cell_type": "code",
   "execution_count": 2,
   "metadata": {
    "collapsed": true
   },
   "outputs": [],
   "source": [
    "sc = SparkContext.getOrCreate()\n",
    "sqlContext = SQLContext.getOrCreate(sc)\n",
    "books = sc.textFile(\"..\\BX-Books.csv\")\n",
    "users = sc.textFile(\"..\\BX-Users.csv\")\n",
    "ratings = sc.textFile(\"..\\BX-Book-Ratings.csv\")"
   ]
  },
  {
   "cell_type": "markdown",
   "metadata": {},
   "source": [
    "# Ratings"
   ]
  },
  {
   "cell_type": "code",
   "execution_count": 3,
   "metadata": {},
   "outputs": [
    {
     "data": {
      "text/plain": [
       "1149780"
      ]
     },
     "execution_count": 3,
     "metadata": {},
     "output_type": "execute_result"
    }
   ],
   "source": [
    "ratings.count()"
   ]
  },
  {
   "cell_type": "code",
   "execution_count": 4,
   "metadata": {},
   "outputs": [
    {
     "data": {
      "text/plain": [
       "['\"276725\";\"034545104X\";\"0\"',\n",
       " '\"276726\";\"0155061224\";\"5\"',\n",
       " '\"276727\";\"0446520802\";\"0\"',\n",
       " '\"276729\";\"052165615X\";\"3\"',\n",
       " '\"276729\";\"0521795028\";\"6\"']"
      ]
     },
     "execution_count": 4,
     "metadata": {},
     "output_type": "execute_result"
    }
   ],
   "source": [
    "ratings.take(5)"
   ]
  },
  {
   "cell_type": "markdown",
   "metadata": {},
   "source": [
    "Отсюда видно, что данные рейтинга книг хранятся в виде:  \n",
    "        -Идентификатор пользователя    \n",
    "        -Идентификатор книги        \n",
    "        -Рейтинг"
   ]
  },
  {
   "cell_type": "markdown",
   "metadata": {},
   "source": [
    "Но данные могут содержать пропущенные значения,  быть помещены в кавычки, кроме того, они разделены точкой с запятой, иными словами, они нуждаются в предварительной обработке"
   ]
  },
  {
   "cell_type": "code",
   "execution_count": 6,
   "metadata": {
    "collapsed": true
   },
   "outputs": [],
   "source": [
    "def prepare_ratings_data(x):\n",
    "    row = x.split(\";\")\n",
    "    row2 = [row[0].replace(\"'\",\"\").replace('\"',\"\"), row[1].replace(\"'\",\"\").replace('\"',\"\"), float(row[2].replace(\"'\",\"\").replace('\"',\"\"))]\n",
    "    return row2"
   ]
  },
  {
   "cell_type": "code",
   "execution_count": 7,
   "metadata": {
    "collapsed": true
   },
   "outputs": [],
   "source": [
    "ratings_csv = ratings.map(prepare_ratings_data)"
   ]
  },
  {
   "cell_type": "code",
   "execution_count": 8,
   "metadata": {},
   "outputs": [
    {
     "data": {
      "text/plain": [
       "[['276725', '034545104X', 0.0],\n",
       " ['276726', '0155061224', 5.0],\n",
       " ['276727', '0446520802', 0.0],\n",
       " ['276729', '052165615X', 3.0],\n",
       " ['276729', '0521795028', 6.0]]"
      ]
     },
     "execution_count": 8,
     "metadata": {},
     "output_type": "execute_result"
    }
   ],
   "source": [
    "ratings_csv.take(5)"
   ]
  },
  {
   "cell_type": "markdown",
   "metadata": {},
   "source": [
    "Таким образом, данные уже принимают более удобный для работы вид"
   ]
  },
  {
   "cell_type": "markdown",
   "metadata": {},
   "source": [
    "Подгрузим библиотеки для перевода наших данных в вид dataframe для последующей обработки средствами spark"
   ]
  },
  {
   "cell_type": "code",
   "execution_count": 12,
   "metadata": {
    "collapsed": true
   },
   "outputs": [],
   "source": [
    "from pyspark.sql import SQLContext, Row"
   ]
  },
  {
   "cell_type": "markdown",
   "metadata": {},
   "source": [
    "Создадим таблицу с данными рейтинга книг от пользователей"
   ]
  },
  {
   "cell_type": "code",
   "execution_count": 13,
   "metadata": {
    "collapsed": true
   },
   "outputs": [],
   "source": [
    "ratings_info = sqlContext.createDataFrame(ratings_csv, ['userId', 'ISBN', 'bookRating'])"
   ]
  },
  {
   "cell_type": "code",
   "execution_count": 14,
   "metadata": {},
   "outputs": [
    {
     "name": "stdout",
     "output_type": "stream",
     "text": [
      "+------+----------+----------+\n",
      "|userID|      ISBN|bookRating|\n",
      "+------+----------+----------+\n",
      "|276725|034545104X|       0.0|\n",
      "|276726|0155061224|       5.0|\n",
      "|276727|0446520802|       0.0|\n",
      "|276729|052165615X|       3.0|\n",
      "|276729|0521795028|       6.0|\n",
      "|276733|2080674722|       0.0|\n",
      "|276736|3257224281|       8.0|\n",
      "|276737|0600570967|       6.0|\n",
      "|276744|038550120X|       7.0|\n",
      "|276745| 342310538|      10.0|\n",
      "|276746|0425115801|       0.0|\n",
      "|276746|0449006522|       0.0|\n",
      "|276746|0553561618|       0.0|\n",
      "|276746|055356451X|       0.0|\n",
      "|276746|0786013990|       0.0|\n",
      "|276746|0786014512|       0.0|\n",
      "|276747|0060517794|       9.0|\n",
      "|276747|0451192001|       0.0|\n",
      "|276747|0609801279|       0.0|\n",
      "|276747|0671537458|       9.0|\n",
      "+------+----------+----------+\n",
      "only showing top 20 rows\n",
      "\n"
     ]
    }
   ],
   "source": [
    "ratings_info.show()"
   ]
  },
  {
   "cell_type": "markdown",
   "metadata": {},
   "source": [
    "Вроде бы с данными всё хорошо.\n",
    "Зачем же было всё усложнять, почему не воспользоваться, например, ratings_info = ratings.toDF() или ratings_info = SqlContext.read.csv(\"..\\BX-Book-Ratings.csv\")? Вроде бы, намного проще, однако данные методы в моём случае отработали с ошибкой при обращении к metastore_db, поэтому ищем доступное решение"
   ]
  },
  {
   "cell_type": "markdown",
   "metadata": {},
   "source": [
    "## Ratings Distribution"
   ]
  },
  {
   "cell_type": "code",
   "execution_count": 15,
   "metadata": {
    "collapsed": true
   },
   "outputs": [],
   "source": [
    "from pyspark.sql.functions import col"
   ]
  },
  {
   "cell_type": "markdown",
   "metadata": {},
   "source": [
    "Попробуем оценить, какая оценка чаще всего выставлялась книгам.\n",
    "Для этого сгруппируем данные по рейтингу книги и выведем количество голосов в порядке возрастания рейтинга. Как ни странно, наиболее популярная оценка - 0, за ней - 8"
   ]
  },
  {
   "cell_type": "code",
   "execution_count": 16,
   "metadata": {
    "scrolled": false
   },
   "outputs": [
    {
     "name": "stdout",
     "output_type": "stream",
     "text": [
      "+----------+------+\n",
      "|bookRating| count|\n",
      "+----------+------+\n",
      "|       0.0|716109|\n",
      "|       1.0|  1770|\n",
      "|       2.0|  2759|\n",
      "|       3.0|  5996|\n",
      "|       4.0|  8904|\n",
      "|       5.0| 50974|\n",
      "|       6.0| 36924|\n",
      "|       7.0| 76457|\n",
      "|       8.0|103736|\n",
      "|       9.0| 67541|\n",
      "|      10.0| 78610|\n",
      "+----------+------+\n",
      "\n"
     ]
    }
   ],
   "source": [
    "ratings_dist = ratings_info.groupBy('bookRating').count().sort(col(\"bookRating\").asc())\n",
    "ratings_dist.show()"
   ]
  },
  {
   "cell_type": "markdown",
   "metadata": {},
   "source": [
    "Чтобы представить данные в виде графика, переведем их в формат pandas"
   ]
  },
  {
   "cell_type": "code",
   "execution_count": 17,
   "metadata": {
    "scrolled": false
   },
   "outputs": [
    {
     "data": {
      "text/html": [
       "<div>\n",
       "<style>\n",
       "    .dataframe thead tr:only-child th {\n",
       "        text-align: right;\n",
       "    }\n",
       "\n",
       "    .dataframe thead th {\n",
       "        text-align: left;\n",
       "    }\n",
       "\n",
       "    .dataframe tbody tr th {\n",
       "        vertical-align: top;\n",
       "    }\n",
       "</style>\n",
       "<table border=\"1\" class=\"dataframe\">\n",
       "  <thead>\n",
       "    <tr style=\"text-align: right;\">\n",
       "      <th></th>\n",
       "      <th>bookRating</th>\n",
       "      <th>count</th>\n",
       "    </tr>\n",
       "  </thead>\n",
       "  <tbody>\n",
       "    <tr>\n",
       "      <th>0</th>\n",
       "      <td>0.0</td>\n",
       "      <td>716109</td>\n",
       "    </tr>\n",
       "    <tr>\n",
       "      <th>1</th>\n",
       "      <td>1.0</td>\n",
       "      <td>1770</td>\n",
       "    </tr>\n",
       "    <tr>\n",
       "      <th>2</th>\n",
       "      <td>2.0</td>\n",
       "      <td>2759</td>\n",
       "    </tr>\n",
       "    <tr>\n",
       "      <th>3</th>\n",
       "      <td>3.0</td>\n",
       "      <td>5996</td>\n",
       "    </tr>\n",
       "    <tr>\n",
       "      <th>4</th>\n",
       "      <td>4.0</td>\n",
       "      <td>8904</td>\n",
       "    </tr>\n",
       "    <tr>\n",
       "      <th>5</th>\n",
       "      <td>5.0</td>\n",
       "      <td>50974</td>\n",
       "    </tr>\n",
       "    <tr>\n",
       "      <th>6</th>\n",
       "      <td>6.0</td>\n",
       "      <td>36924</td>\n",
       "    </tr>\n",
       "    <tr>\n",
       "      <th>7</th>\n",
       "      <td>7.0</td>\n",
       "      <td>76457</td>\n",
       "    </tr>\n",
       "    <tr>\n",
       "      <th>8</th>\n",
       "      <td>8.0</td>\n",
       "      <td>103736</td>\n",
       "    </tr>\n",
       "    <tr>\n",
       "      <th>9</th>\n",
       "      <td>9.0</td>\n",
       "      <td>67541</td>\n",
       "    </tr>\n",
       "    <tr>\n",
       "      <th>10</th>\n",
       "      <td>10.0</td>\n",
       "      <td>78610</td>\n",
       "    </tr>\n",
       "  </tbody>\n",
       "</table>\n",
       "</div>"
      ],
      "text/plain": [
       "    bookRating   count\n",
       "0          0.0  716109\n",
       "1          1.0    1770\n",
       "2          2.0    2759\n",
       "3          3.0    5996\n",
       "4          4.0    8904\n",
       "5          5.0   50974\n",
       "6          6.0   36924\n",
       "7          7.0   76457\n",
       "8          8.0  103736\n",
       "9          9.0   67541\n",
       "10        10.0   78610"
      ]
     },
     "execution_count": 17,
     "metadata": {},
     "output_type": "execute_result"
    }
   ],
   "source": [
    "ratings_dist_pds = ratings_dist.toPandas()\n",
    "ratings_dist_pds"
   ]
  },
  {
   "cell_type": "code",
   "execution_count": 18,
   "metadata": {
    "scrolled": true
   },
   "outputs": [
    {
     "data": {
      "image/png": "[encoded data removed]",
      "text/plain": [
       "<matplotlib.figure.Figure at 0xebac556128>"
      ]
     },
     "metadata": {},
     "output_type": "display_data"
    }
   ],
   "source": [
    "ind = np.array(ratings_dist_pds['bookRating'])\n",
    "width = 1\n",
    "\n",
    "p1 = plt.bar(ind, np.array(ratings_dist_pds['count']), 0.6, color='b')\n",
    "plt.title('Rating Distribution\\n')\n",
    "plt.ylabel('Count')\n",
    "plt.xlabel('Rating')\n",
    "plt.xticks(ind, ind)\n"
   ]
  },
  {
   "cell_type": "markdown",
   "metadata": {},
   "source": [
    "# Books"
   ]
  },
  {
   "cell_type": "markdown",
   "metadata": {},
   "source": [
    "Аналогично данным рейтингов подготовим данные книг.\n",
    "Определим функцию, подчищающую данные"
   ]
  },
  {
   "cell_type": "code",
   "execution_count": 91,
   "metadata": {
    "collapsed": true
   },
   "outputs": [],
   "source": [
    "def prepare_book_data(x):\n",
    "    row = x.split(';')\n",
    "    return [row[0].replace(\"'\",\"\").replace('\"',\"\"),row[1].replace(\"'\",\"\").replace('\"',\"\"),row[2].replace(\"'\",\"\").replace('\"',\"\"),\n",
    "            row[3].replace(\"'\",\"\").replace('\"',\"\"),row[4].replace(\"'\",\"\").replace('\"',\"\"),row[5].replace(\"'\",\"\").replace('\"',\"\"),\n",
    "            row[6].replace(\"'\",\"\").replace('\"',\"\"),row[7].replace(\"'\",\"\").replace('\"',\"\")]"
   ]
  },
  {
   "cell_type": "code",
   "execution_count": 94,
   "metadata": {
    "collapsed": true
   },
   "outputs": [],
   "source": [
    "books_info = sqlContext.createDataFrame(books.map(lambda x:  prepare_books_data(x)),  ['ISBN', 'bookTitle', 'bookAuthor', 'yearOfPublication', 'publisher', 'imageUrlS', 'imageUrlM', 'imageUrlL'])"
   ]
  },
  {
   "cell_type": "code",
   "execution_count": 95,
   "metadata": {},
   "outputs": [
    {
     "name": "stdout",
     "output_type": "stream",
     "text": [
      "+----------+--------------------+--------------------+-----------------+--------------------+--------------------+--------------------+--------------------+\n",
      "|      ISBN|           bookTitle|          bookAuthor|yearOfPublication|           publisher|           imageUrlS|           imageUrlM|           imageUrlL|\n",
      "+----------+--------------------+--------------------+-----------------+--------------------+--------------------+--------------------+--------------------+\n",
      "|0195153448| Classical Mythology|  Mark P. O. Morford|             2002|Oxford University...|http://images.ama...|http://images.ama...|http://images.ama...|\n",
      "|0002005018|        Clara Callan|Richard Bruce Wright|             2001|HarperFlamingo Ca...|http://images.ama...|http://images.ama...|http://images.ama...|\n",
      "|0060973129|Decision in Normandy|         Carlo DEste|             1991|     HarperPerennial|http://images.ama...|http://images.ama...|http://images.ama...|\n",
      "|0374157065|Flu: The Story of...|    Gina Bari Kolata|             1999|Farrar Straus Giroux|http://images.ama...|http://images.ama...|http://images.ama...|\n",
      "|0393045218|The Mummies of Ur...|     E. J. W. Barber|             1999|   W. W. Norton &amp|             Company|http://images.ama...|http://images.ama...|\n",
      "|0399135782|The Kitchen Gods ...|             Amy Tan|             1991|    Putnam Pub Group|http://images.ama...|http://images.ama...|http://images.ama...|\n",
      "|0425176428|What If?: The Wor...|       Robert Cowley|             2000|Berkley Publishin...|http://images.ama...|http://images.ama...|http://images.ama...|\n",
      "|0671870432|     PLEADING GUILTY|         Scott Turow|             1993|          Audioworks|http://images.ama...|http://images.ama...|http://images.ama...|\n",
      "|0679425608|Under the Black F...|     David Cordingly|             1996|        Random House|http://images.ama...|http://images.ama...|http://images.ama...|\n",
      "|074322678X|Where Youll Find ...|         Ann Beattie|             2002|            Scribner|http://images.ama...|http://images.ama...|http://images.ama...|\n",
      "|0771074670|Nights Below Stat...|David Adams Richards|             1988|     Emblem Editions|http://images.ama...|http://images.ama...|http://images.ama...|\n",
      "|080652121X|Hitlers Secret Ba...|          Adam Lebor|             2000|       Citadel Press|http://images.ama...|http://images.ama...|http://images.ama...|\n",
      "|0887841740|  The Middle Stories|         Sheila Heti|             2004|House of Anansi P...|http://images.ama...|http://images.ama...|http://images.ama...|\n",
      "|1552041778|            Jane Doe|        R. J. Kaiser|             1999|          Mira Books|http://images.ama...|http://images.ama...|http://images.ama...|\n",
      "|1558746218|A Second Chicken ...|       Jack Canfield|             1998|Health Communicat...|http://images.ama...|http://images.ama...|http://images.ama...|\n",
      "|1567407781|The Witchfinder (...|   Loren D. Estleman|             1998|Brilliance Audio ...|http://images.ama...|http://images.ama...|http://images.ama...|\n",
      "|1575663937|More Cunning Than...|  Robert Hendrickson|             1999|Kensington Publis...|http://images.ama...|http://images.ama...|http://images.ama...|\n",
      "|1881320189|Goodbye to the Bu...|        Julia Oliver|             1994|      River City Pub|http://images.ama...|http://images.ama...|http://images.ama...|\n",
      "|0440234743|       The Testament|        John Grisham|             1999|                Dell|http://images.ama...|http://images.ama...|http://images.ama...|\n",
      "|0452264464|Beloved (Plume Co...|       Toni Morrison|             1994|               Plume|http://images.ama...|http://images.ama...|http://images.ama...|\n",
      "+----------+--------------------+--------------------+-----------------+--------------------+--------------------+--------------------+--------------------+\n",
      "only showing top 20 rows\n",
      "\n"
     ]
    }
   ],
   "source": [
    "books_info.show()"
   ]
  },
  {
   "cell_type": "markdown",
   "metadata": {},
   "source": [
    "# Users"
   ]
  },
  {
   "cell_type": "code",
   "execution_count": 97,
   "metadata": {
    "collapsed": true
   },
   "outputs": [],
   "source": [
    "def prepare_users_data(x):\n",
    "    row = x.split(\";\")\n",
    "    if (len(row)<2):\n",
    "        return ( [row[0].replace(\"'\",\"\").replace('\"',\"\"), \"\", np.nan, np.nan] )\n",
    "    if (len(row)<3):\n",
    "        return ( [row[0].replace(\"'\",\"\").replace('\"',\"\"), row[1].replace(\"'\",\"\").replace('\"',\"\"), np.nan, np.nan] )\n",
    "    age = row[2].replace(\"'\",\"\").replace('\"',\"\")\n",
    "    try:\n",
    "        age_num = float(age)\n",
    "        age_pos = (age_num//10+1)*10\n",
    "    except Exception:\n",
    "        age_num = np.nan\n",
    "        age_pos = np.nan\n",
    "    row2 = [row[0].replace(\"'\",\"\").replace('\"',\"\"), row[1].replace(\"'\",\"\").replace('\"',\"\"), age_num, age_pos] \n",
    "    return row2"
   ]
  },
  {
   "cell_type": "code",
   "execution_count": 98,
   "metadata": {
    "collapsed": true
   },
   "outputs": [],
   "source": [
    "users_info=sqlContext.createDataFrame(users.map(lambda x:  prepare_users_data(x)), ['userId', 'Location', 'Age', \"Age-hist\"])"
   ]
  },
  {
   "cell_type": "code",
   "execution_count": 99,
   "metadata": {},
   "outputs": [
    {
     "name": "stdout",
     "output_type": "stream",
     "text": [
      "+------+--------------------+----+--------+\n",
      "|userID|            Location| Age|Age-hist|\n",
      "+------+--------------------+----+--------+\n",
      "|     1|  nyc, new york, usa| NaN|     NaN|\n",
      "|     2|stockton, califor...|18.0|    20.0|\n",
      "|     3|moscow, yukon ter...| NaN|     NaN|\n",
      "|     4|porto, v.n.gaia, ...|17.0|    20.0|\n",
      "|     5|farnborough, hant...| NaN|     NaN|\n",
      "|     6|santa monica, cal...|61.0|    70.0|\n",
      "|     7| washington, dc, usa| NaN|     NaN|\n",
      "|     8|timmins, ontario,...| NaN|     NaN|\n",
      "|     9|germantown, tenne...| NaN|     NaN|\n",
      "|    10|albacete, wiscons...|26.0|    30.0|\n",
      "|    11|melbourne, victor...|14.0|    20.0|\n",
      "|    12|fort bragg, calif...| NaN|     NaN|\n",
      "|    13|barcelona, barcel...|26.0|    30.0|\n",
      "|    14|mediapolis, iowa,...| NaN|     NaN|\n",
      "|    15|calgary, alberta,...| NaN|     NaN|\n",
      "|    16|albuquerque, new ...| NaN|     NaN|\n",
      "|    17|chesapeake, virgi...| NaN|     NaN|\n",
      "|    18|rio de janeiro, r...|25.0|    30.0|\n",
      "|    19|           weston, ,|14.0|    20.0|\n",
      "|    20|langhorne, pennsy...|19.0|    20.0|\n",
      "+------+--------------------+----+--------+\n",
      "only showing top 20 rows\n",
      "\n"
     ]
    }
   ],
   "source": [
    "users_info.show()"
   ]
  },
  {
   "cell_type": "markdown",
   "metadata": {},
   "source": [
    "## Age distribution"
   ]
  },
  {
   "cell_type": "markdown",
   "metadata": {},
   "source": [
    "Построим график распределения пользователей, выставлявших оценки книгам, по возрасту. Для этого подготовим выборку данных из таблицы пользователей (сгруппируем по столбцу верхней границы возраста - возраст относится к группам \"до х лет\" -, и выведем количество пользователей, относящихся к данной группе."
   ]
  },
  {
   "cell_type": "code",
   "execution_count": 100,
   "metadata": {
    "scrolled": false
   },
   "outputs": [
    {
     "name": "stdout",
     "output_type": "stream",
     "text": [
      "+--------+-----+\n",
      "|Age-hist|count|\n",
      "+--------+-----+\n",
      "|    10.0| 1068|\n",
      "|    20.0|18845|\n",
      "|    30.0|51484|\n",
      "|    40.0|41878|\n",
      "|    50.0|26698|\n",
      "|    60.0|18810|\n",
      "|    70.0| 6913|\n",
      "|    80.0| 1644|\n",
      "|    90.0|  199|\n",
      "|   100.0|   62|\n",
      "|   110.0|  276|\n",
      "|   120.0|   19|\n",
      "|   130.0|   15|\n",
      "|   140.0|    7|\n",
      "|   150.0|   13|\n",
      "|   160.0|    6|\n",
      "|   170.0|    2|\n",
      "|   180.0|    2|\n",
      "|   190.0|    3|\n",
      "|   200.0|    2|\n",
      "+--------+-----+\n",
      "only showing top 20 rows\n",
      "\n"
     ]
    }
   ],
   "source": [
    "age_dist = users_info.groupBy('Age-hist').count().sort(col(\"Age-hist\").asc())\n",
    "age_dist.show()"
   ]
  },
  {
   "cell_type": "markdown",
   "metadata": {},
   "source": [
    "Переведем данные распределения по возрастным группам в pandas. Заметим, что для значительного количества пользователей возраст не указан. Ну а кто-то явно накинул себе лишнюю сотню-другую)"
   ]
  },
  {
   "cell_type": "code",
   "execution_count": 101,
   "metadata": {
    "scrolled": false
   },
   "outputs": [
    {
     "data": {
      "text/html": [
       "<div>\n",
       "<style>\n",
       "    .dataframe thead tr:only-child th {\n",
       "        text-align: right;\n",
       "    }\n",
       "\n",
       "    .dataframe thead th {\n",
       "        text-align: left;\n",
       "    }\n",
       "\n",
       "    .dataframe tbody tr th {\n",
       "        vertical-align: top;\n",
       "    }\n",
       "</style>\n",
       "<table border=\"1\" class=\"dataframe\">\n",
       "  <thead>\n",
       "    <tr style=\"text-align: right;\">\n",
       "      <th></th>\n",
       "      <th>Age-hist</th>\n",
       "      <th>count</th>\n",
       "    </tr>\n",
       "  </thead>\n",
       "  <tbody>\n",
       "    <tr>\n",
       "      <th>0</th>\n",
       "      <td>10.0</td>\n",
       "      <td>1068</td>\n",
       "    </tr>\n",
       "    <tr>\n",
       "      <th>1</th>\n",
       "      <td>20.0</td>\n",
       "      <td>18845</td>\n",
       "    </tr>\n",
       "    <tr>\n",
       "      <th>2</th>\n",
       "      <td>30.0</td>\n",
       "      <td>51484</td>\n",
       "    </tr>\n",
       "    <tr>\n",
       "      <th>3</th>\n",
       "      <td>40.0</td>\n",
       "      <td>41878</td>\n",
       "    </tr>\n",
       "    <tr>\n",
       "      <th>4</th>\n",
       "      <td>50.0</td>\n",
       "      <td>26698</td>\n",
       "    </tr>\n",
       "    <tr>\n",
       "      <th>5</th>\n",
       "      <td>60.0</td>\n",
       "      <td>18810</td>\n",
       "    </tr>\n",
       "    <tr>\n",
       "      <th>6</th>\n",
       "      <td>70.0</td>\n",
       "      <td>6913</td>\n",
       "    </tr>\n",
       "    <tr>\n",
       "      <th>7</th>\n",
       "      <td>80.0</td>\n",
       "      <td>1644</td>\n",
       "    </tr>\n",
       "    <tr>\n",
       "      <th>8</th>\n",
       "      <td>90.0</td>\n",
       "      <td>199</td>\n",
       "    </tr>\n",
       "    <tr>\n",
       "      <th>9</th>\n",
       "      <td>100.0</td>\n",
       "      <td>62</td>\n",
       "    </tr>\n",
       "    <tr>\n",
       "      <th>10</th>\n",
       "      <td>110.0</td>\n",
       "      <td>276</td>\n",
       "    </tr>\n",
       "    <tr>\n",
       "      <th>11</th>\n",
       "      <td>120.0</td>\n",
       "      <td>19</td>\n",
       "    </tr>\n",
       "    <tr>\n",
       "      <th>12</th>\n",
       "      <td>130.0</td>\n",
       "      <td>15</td>\n",
       "    </tr>\n",
       "    <tr>\n",
       "      <th>13</th>\n",
       "      <td>140.0</td>\n",
       "      <td>7</td>\n",
       "    </tr>\n",
       "    <tr>\n",
       "      <th>14</th>\n",
       "      <td>150.0</td>\n",
       "      <td>13</td>\n",
       "    </tr>\n",
       "    <tr>\n",
       "      <th>15</th>\n",
       "      <td>160.0</td>\n",
       "      <td>6</td>\n",
       "    </tr>\n",
       "    <tr>\n",
       "      <th>16</th>\n",
       "      <td>170.0</td>\n",
       "      <td>2</td>\n",
       "    </tr>\n",
       "    <tr>\n",
       "      <th>17</th>\n",
       "      <td>180.0</td>\n",
       "      <td>2</td>\n",
       "    </tr>\n",
       "    <tr>\n",
       "      <th>18</th>\n",
       "      <td>190.0</td>\n",
       "      <td>3</td>\n",
       "    </tr>\n",
       "    <tr>\n",
       "      <th>19</th>\n",
       "      <td>200.0</td>\n",
       "      <td>2</td>\n",
       "    </tr>\n",
       "    <tr>\n",
       "      <th>20</th>\n",
       "      <td>210.0</td>\n",
       "      <td>11</td>\n",
       "    </tr>\n",
       "    <tr>\n",
       "      <th>21</th>\n",
       "      <td>220.0</td>\n",
       "      <td>5</td>\n",
       "    </tr>\n",
       "    <tr>\n",
       "      <th>22</th>\n",
       "      <td>230.0</td>\n",
       "      <td>7</td>\n",
       "    </tr>\n",
       "    <tr>\n",
       "      <th>23</th>\n",
       "      <td>240.0</td>\n",
       "      <td>4</td>\n",
       "    </tr>\n",
       "    <tr>\n",
       "      <th>24</th>\n",
       "      <td>250.0</td>\n",
       "      <td>1</td>\n",
       "    </tr>\n",
       "    <tr>\n",
       "      <th>25</th>\n",
       "      <td>NaN</td>\n",
       "      <td>110885</td>\n",
       "    </tr>\n",
       "  </tbody>\n",
       "</table>\n",
       "</div>"
      ],
      "text/plain": [
       "    Age-hist   count\n",
       "0       10.0    1068\n",
       "1       20.0   18845\n",
       "2       30.0   51484\n",
       "3       40.0   41878\n",
       "4       50.0   26698\n",
       "5       60.0   18810\n",
       "6       70.0    6913\n",
       "7       80.0    1644\n",
       "8       90.0     199\n",
       "9      100.0      62\n",
       "10     110.0     276\n",
       "11     120.0      19\n",
       "12     130.0      15\n",
       "13     140.0       7\n",
       "14     150.0      13\n",
       "15     160.0       6\n",
       "16     170.0       2\n",
       "17     180.0       2\n",
       "18     190.0       3\n",
       "19     200.0       2\n",
       "20     210.0      11\n",
       "21     220.0       5\n",
       "22     230.0       7\n",
       "23     240.0       4\n",
       "24     250.0       1\n",
       "25       NaN  110885"
      ]
     },
     "execution_count": 101,
     "metadata": {},
     "output_type": "execute_result"
    }
   ],
   "source": [
    "age_dist_pds = age_dist.toPandas()\n",
    "age_dist_pds"
   ]
  },
  {
   "cell_type": "markdown",
   "metadata": {},
   "source": [
    "За неимением возможности объективно оценить возраст пользователей, которые его явно не указали, удалим пустые значения из нашей выборки."
   ]
  },
  {
   "cell_type": "code",
   "execution_count": 102,
   "metadata": {},
   "outputs": [
    {
     "data": {
      "text/html": [
       "<div>\n",
       "<style>\n",
       "    .dataframe thead tr:only-child th {\n",
       "        text-align: right;\n",
       "    }\n",
       "\n",
       "    .dataframe thead th {\n",
       "        text-align: left;\n",
       "    }\n",
       "\n",
       "    .dataframe tbody tr th {\n",
       "        vertical-align: top;\n",
       "    }\n",
       "</style>\n",
       "<table border=\"1\" class=\"dataframe\">\n",
       "  <thead>\n",
       "    <tr style=\"text-align: right;\">\n",
       "      <th></th>\n",
       "      <th>Age-hist</th>\n",
       "      <th>count</th>\n",
       "    </tr>\n",
       "  </thead>\n",
       "  <tbody>\n",
       "    <tr>\n",
       "      <th>0</th>\n",
       "      <td>10.0</td>\n",
       "      <td>1068</td>\n",
       "    </tr>\n",
       "    <tr>\n",
       "      <th>1</th>\n",
       "      <td>20.0</td>\n",
       "      <td>18845</td>\n",
       "    </tr>\n",
       "    <tr>\n",
       "      <th>2</th>\n",
       "      <td>30.0</td>\n",
       "      <td>51484</td>\n",
       "    </tr>\n",
       "    <tr>\n",
       "      <th>3</th>\n",
       "      <td>40.0</td>\n",
       "      <td>41878</td>\n",
       "    </tr>\n",
       "    <tr>\n",
       "      <th>4</th>\n",
       "      <td>50.0</td>\n",
       "      <td>26698</td>\n",
       "    </tr>\n",
       "    <tr>\n",
       "      <th>5</th>\n",
       "      <td>60.0</td>\n",
       "      <td>18810</td>\n",
       "    </tr>\n",
       "    <tr>\n",
       "      <th>6</th>\n",
       "      <td>70.0</td>\n",
       "      <td>6913</td>\n",
       "    </tr>\n",
       "    <tr>\n",
       "      <th>7</th>\n",
       "      <td>80.0</td>\n",
       "      <td>1644</td>\n",
       "    </tr>\n",
       "    <tr>\n",
       "      <th>8</th>\n",
       "      <td>90.0</td>\n",
       "      <td>199</td>\n",
       "    </tr>\n",
       "    <tr>\n",
       "      <th>9</th>\n",
       "      <td>100.0</td>\n",
       "      <td>62</td>\n",
       "    </tr>\n",
       "    <tr>\n",
       "      <th>10</th>\n",
       "      <td>110.0</td>\n",
       "      <td>276</td>\n",
       "    </tr>\n",
       "    <tr>\n",
       "      <th>11</th>\n",
       "      <td>120.0</td>\n",
       "      <td>19</td>\n",
       "    </tr>\n",
       "    <tr>\n",
       "      <th>12</th>\n",
       "      <td>130.0</td>\n",
       "      <td>15</td>\n",
       "    </tr>\n",
       "    <tr>\n",
       "      <th>13</th>\n",
       "      <td>140.0</td>\n",
       "      <td>7</td>\n",
       "    </tr>\n",
       "    <tr>\n",
       "      <th>14</th>\n",
       "      <td>150.0</td>\n",
       "      <td>13</td>\n",
       "    </tr>\n",
       "    <tr>\n",
       "      <th>15</th>\n",
       "      <td>160.0</td>\n",
       "      <td>6</td>\n",
       "    </tr>\n",
       "    <tr>\n",
       "      <th>16</th>\n",
       "      <td>170.0</td>\n",
       "      <td>2</td>\n",
       "    </tr>\n",
       "    <tr>\n",
       "      <th>17</th>\n",
       "      <td>180.0</td>\n",
       "      <td>2</td>\n",
       "    </tr>\n",
       "    <tr>\n",
       "      <th>18</th>\n",
       "      <td>190.0</td>\n",
       "      <td>3</td>\n",
       "    </tr>\n",
       "    <tr>\n",
       "      <th>19</th>\n",
       "      <td>200.0</td>\n",
       "      <td>2</td>\n",
       "    </tr>\n",
       "    <tr>\n",
       "      <th>20</th>\n",
       "      <td>210.0</td>\n",
       "      <td>11</td>\n",
       "    </tr>\n",
       "    <tr>\n",
       "      <th>21</th>\n",
       "      <td>220.0</td>\n",
       "      <td>5</td>\n",
       "    </tr>\n",
       "    <tr>\n",
       "      <th>22</th>\n",
       "      <td>230.0</td>\n",
       "      <td>7</td>\n",
       "    </tr>\n",
       "    <tr>\n",
       "      <th>23</th>\n",
       "      <td>240.0</td>\n",
       "      <td>4</td>\n",
       "    </tr>\n",
       "    <tr>\n",
       "      <th>24</th>\n",
       "      <td>250.0</td>\n",
       "      <td>1</td>\n",
       "    </tr>\n",
       "  </tbody>\n",
       "</table>\n",
       "</div>"
      ],
      "text/plain": [
       "    Age-hist  count\n",
       "0       10.0   1068\n",
       "1       20.0  18845\n",
       "2       30.0  51484\n",
       "3       40.0  41878\n",
       "4       50.0  26698\n",
       "5       60.0  18810\n",
       "6       70.0   6913\n",
       "7       80.0   1644\n",
       "8       90.0    199\n",
       "9      100.0     62\n",
       "10     110.0    276\n",
       "11     120.0     19\n",
       "12     130.0     15\n",
       "13     140.0      7\n",
       "14     150.0     13\n",
       "15     160.0      6\n",
       "16     170.0      2\n",
       "17     180.0      2\n",
       "18     190.0      3\n",
       "19     200.0      2\n",
       "20     210.0     11\n",
       "21     220.0      5\n",
       "22     230.0      7\n",
       "23     240.0      4\n",
       "24     250.0      1"
      ]
     },
     "execution_count": 102,
     "metadata": {},
     "output_type": "execute_result"
    }
   ],
   "source": [
    "age_dist_pds = age_dist_pds.dropna()\n",
    "age_dist_pds"
   ]
  },
  {
   "cell_type": "markdown",
   "metadata": {},
   "source": [
    "Построим график распределения полльзователей по возрастным группам"
   ]
  },
  {
   "cell_type": "code",
   "execution_count": 103,
   "metadata": {
    "scrolled": true
   },
   "outputs": [
    {
     "data": {
      "image/png": "[encoded data removed]",
      "text/plain": [
       "<matplotlib.figure.Figure at 0xebaa53e898>"
      ]
     },
     "metadata": {},
     "output_type": "display_data"
    }
   ],
   "source": [
    "ind = np.array(range(0, len(age_dist_pds['Age-hist'])))\n",
    "\n",
    "p1 = plt.bar(ind, age_dist_pds['count'], 0.6, color='b')\n",
    "plt.title('Rating Distribution\\n')\n",
    "plt.ylabel('Count')\n",
    "plt.xlabel('Age')\n",
    "plt.xticks(ind, age_dist_pds['Age-hist'])"
   ]
  },
  {
   "cell_type": "markdown",
   "metadata": {},
   "source": [
    "# Recommendations based on rating counts"
   ]
  },
  {
   "cell_type": "markdown",
   "metadata": {},
   "source": [
    "Сгруппируем данные книг по идентификаторам книг и подсчитаем количество голосов, полученных каждой книгой"
   ]
  },
  {
   "cell_type": "code",
   "execution_count": 104,
   "metadata": {},
   "outputs": [
    {
     "name": "stdout",
     "output_type": "stream",
     "text": [
      "+----------+------------+\n",
      "|      ISBN|ratingsCount|\n",
      "+----------+------------+\n",
      "|0971880107|        2502|\n",
      "|0316666343|        1295|\n",
      "|0385504209|         883|\n",
      "|0060928336|         732|\n",
      "|0312195516|         723|\n",
      "|044023722X|         647|\n",
      "|0679781587|         639|\n",
      "|0142001740|         615|\n",
      "|067976402X|         614|\n",
      "|0671027360|         586|\n",
      "|0446672211|         585|\n",
      "|059035342X|         571|\n",
      "|0316601950|         568|\n",
      "|0375727345|         552|\n",
      "|044021145X|         529|\n",
      "|0452282152|         526|\n",
      "|0440214041|         523|\n",
      "|0804106304|         519|\n",
      "|0440211727|         517|\n",
      "|0345337662|         506|\n",
      "+----------+------------+\n",
      "only showing top 20 rows\n",
      "\n"
     ]
    }
   ],
   "source": [
    "av = ratings_info.groupBy('ISBN').agg(\n",
    "    pyspark.sql.functions.count('bookRating').alias(\"rcnt\")\n",
    "  ).sort(col(\"rcnt\").desc())\n",
    "av.show()"
   ]
  },
  {
   "cell_type": "markdown",
   "metadata": {
    "collapsed": true
   },
   "source": [
    "Книгу с идентификатором \"0971880107\" оценило наибольшее число пользователей, у неё наивысший рейтинг. Выведем топ-5 книг по рейтингу в отдельную таблицу."
   ]
  },
  {
   "cell_type": "code",
   "execution_count": 105,
   "metadata": {},
   "outputs": [
    {
     "name": "stdout",
     "output_type": "stream",
     "text": [
      "+----------+\n",
      "|      ISBN|\n",
      "+----------+\n",
      "|0971880107|\n",
      "|0316666343|\n",
      "|0385504209|\n",
      "|0060928336|\n",
      "|0312195516|\n",
      "+----------+\n",
      "\n"
     ]
    }
   ],
   "source": [
    "most_rated_books = pd.DataFrame(['0971880107', '0316666343', '0385504209', '0060928336', '0312195516'], index=np.arange(5), columns = ['ISBN'])\n",
    "#most_rated_books_summary = pd.merge(most_rated_books, books, on='ISBN')\n",
    "#most_rated_books_summary\n",
    "most_rated_books = sqlContext.createDataFrame([('0971880107',), ('0316666343',), ('0385504209',), \n",
    "                                           ('0060928336',), ('0312195516',)], [\"ISBN\"])\n",
    "most_rated_books.show()\n"
   ]
  },
  {
   "cell_type": "markdown",
   "metadata": {},
   "source": [
    "Соединим идентификаторы книг с информацией о них"
   ]
  },
  {
   "cell_type": "code",
   "execution_count": 106,
   "metadata": {
    "collapsed": true
   },
   "outputs": [],
   "source": [
    "mrb_info = most_rated_books.alias(\"mrb\").join(books_info.alias('book'), col(\"mrb.ISBN\") == col(\"book.ISBN\"))"
   ]
  },
  {
   "cell_type": "code",
   "execution_count": 108,
   "metadata": {},
   "outputs": [
    {
     "name": "stdout",
     "output_type": "stream",
     "text": [
      "+----------+----------+--------------------+-------------+-----------------+-------------+--------------------+--------------------+--------------------+\n",
      "|      ISBN|      ISBN|           bookTitle|   bookAuthor|yearOfPublication|    publisher|           imageUrlS|           imageUrlM|           imageUrlL|\n",
      "+----------+----------+--------------------+-------------+-----------------+-------------+--------------------+--------------------+--------------------+\n",
      "|0385504209|0385504209|   The Da Vinci Code|    Dan Brown|             2003|    Doubleday|http://images.ama...|http://images.ama...|http://images.ama...|\n",
      "|0312195516|0312195516|The Red Tent (Bes...|Anita Diamant|             1998|  Picador USA|http://images.ama...|http://images.ama...|http://images.ama...|\n",
      "|0316666343|0316666343|The Lovely Bones:...| Alice Sebold|             2002|Little, Brown|http://images.ama...|http://images.ama...|http://images.ama...|\n",
      "|0060928336|0060928336|Divine Secrets of...|Rebecca Wells|             1997|    Perennial|http://images.ama...|http://images.ama...|http://images.ama...|\n",
      "|0971880107|0971880107|         Wild Animus| Rich Shapero|             2004|      Too Far|http://images.ama...|http://images.ama...|http://images.ama...|\n",
      "+----------+----------+--------------------+-------------+-----------------+-------------+--------------------+--------------------+--------------------+\n",
      "\n"
     ]
    }
   ],
   "source": [
    "mrb_info.show()"
   ]
  },
  {
   "cell_type": "markdown",
   "metadata": {},
   "source": [
    "Для демонстрации результатов в более удобоваримом виде переведем таблицу расширенной информации по наиболее популярным книгам в pandas"
   ]
  },
  {
   "cell_type": "code",
   "execution_count": 109,
   "metadata": {},
   "outputs": [
    {
     "data": {
      "text/html": [
       "<div>\n",
       "<style>\n",
       "    .dataframe thead tr:only-child th {\n",
       "        text-align: right;\n",
       "    }\n",
       "\n",
       "    .dataframe thead th {\n",
       "        text-align: left;\n",
       "    }\n",
       "\n",
       "    .dataframe tbody tr th {\n",
       "        vertical-align: top;\n",
       "    }\n",
       "</style>\n",
       "<table border=\"1\" class=\"dataframe\">\n",
       "  <thead>\n",
       "    <tr style=\"text-align: right;\">\n",
       "      <th></th>\n",
       "      <th>ISBN</th>\n",
       "      <th>ISBN</th>\n",
       "      <th>bookTitle</th>\n",
       "      <th>bookAuthor</th>\n",
       "      <th>yearOfPublication</th>\n",
       "      <th>publisher</th>\n",
       "      <th>imageUrlS</th>\n",
       "      <th>imageUrlM</th>\n",
       "      <th>imageUrlL</th>\n",
       "    </tr>\n",
       "  </thead>\n",
       "  <tbody>\n",
       "    <tr>\n",
       "      <th>0</th>\n",
       "      <td>0385504209</td>\n",
       "      <td>0385504209</td>\n",
       "      <td>The Da Vinci Code</td>\n",
       "      <td>Dan Brown</td>\n",
       "      <td>2003</td>\n",
       "      <td>Doubleday</td>\n",
       "      <td>http://images.amazon.com/images/P/0385504209.0...</td>\n",
       "      <td>http://images.amazon.com/images/P/0385504209.0...</td>\n",
       "      <td>http://images.amazon.com/images/P/0385504209.0...</td>\n",
       "    </tr>\n",
       "    <tr>\n",
       "      <th>1</th>\n",
       "      <td>0312195516</td>\n",
       "      <td>0312195516</td>\n",
       "      <td>The Red Tent (Bestselling Backlist)</td>\n",
       "      <td>Anita Diamant</td>\n",
       "      <td>1998</td>\n",
       "      <td>Picador USA</td>\n",
       "      <td>http://images.amazon.com/images/P/0312195516.0...</td>\n",
       "      <td>http://images.amazon.com/images/P/0312195516.0...</td>\n",
       "      <td>http://images.amazon.com/images/P/0312195516.0...</td>\n",
       "    </tr>\n",
       "    <tr>\n",
       "      <th>2</th>\n",
       "      <td>0316666343</td>\n",
       "      <td>0316666343</td>\n",
       "      <td>The Lovely Bones: A Novel</td>\n",
       "      <td>Alice Sebold</td>\n",
       "      <td>2002</td>\n",
       "      <td>Little, Brown</td>\n",
       "      <td>http://images.amazon.com/images/P/0316666343.0...</td>\n",
       "      <td>http://images.amazon.com/images/P/0316666343.0...</td>\n",
       "      <td>http://images.amazon.com/images/P/0316666343.0...</td>\n",
       "    </tr>\n",
       "    <tr>\n",
       "      <th>3</th>\n",
       "      <td>0060928336</td>\n",
       "      <td>0060928336</td>\n",
       "      <td>Divine Secrets of the Ya-Ya Sisterhood: A Novel</td>\n",
       "      <td>Rebecca Wells</td>\n",
       "      <td>1997</td>\n",
       "      <td>Perennial</td>\n",
       "      <td>http://images.amazon.com/images/P/0060928336.0...</td>\n",
       "      <td>http://images.amazon.com/images/P/0060928336.0...</td>\n",
       "      <td>http://images.amazon.com/images/P/0060928336.0...</td>\n",
       "    </tr>\n",
       "    <tr>\n",
       "      <th>4</th>\n",
       "      <td>0971880107</td>\n",
       "      <td>0971880107</td>\n",
       "      <td>Wild Animus</td>\n",
       "      <td>Rich Shapero</td>\n",
       "      <td>2004</td>\n",
       "      <td>Too Far</td>\n",
       "      <td>http://images.amazon.com/images/P/0971880107.0...</td>\n",
       "      <td>http://images.amazon.com/images/P/0971880107.0...</td>\n",
       "      <td>http://images.amazon.com/images/P/0971880107.0...</td>\n",
       "    </tr>\n",
       "  </tbody>\n",
       "</table>\n",
       "</div>"
      ],
      "text/plain": [
       "         ISBN        ISBN                                        bookTitle  \\\n",
       "0  0385504209  0385504209                                The Da Vinci Code   \n",
       "1  0312195516  0312195516              The Red Tent (Bestselling Backlist)   \n",
       "2  0316666343  0316666343                        The Lovely Bones: A Novel   \n",
       "3  0060928336  0060928336  Divine Secrets of the Ya-Ya Sisterhood: A Novel   \n",
       "4  0971880107  0971880107                                      Wild Animus   \n",
       "\n",
       "      bookAuthor yearOfPublication      publisher  \\\n",
       "0      Dan Brown              2003      Doubleday   \n",
       "1  Anita Diamant              1998    Picador USA   \n",
       "2   Alice Sebold              2002  Little, Brown   \n",
       "3  Rebecca Wells              1997      Perennial   \n",
       "4   Rich Shapero              2004        Too Far   \n",
       "\n",
       "                                           imageUrlS  \\\n",
       "0  http://images.amazon.com/images/P/0385504209.0...   \n",
       "1  http://images.amazon.com/images/P/0312195516.0...   \n",
       "2  http://images.amazon.com/images/P/0316666343.0...   \n",
       "3  http://images.amazon.com/images/P/0060928336.0...   \n",
       "4  http://images.amazon.com/images/P/0971880107.0...   \n",
       "\n",
       "                                           imageUrlM  \\\n",
       "0  http://images.amazon.com/images/P/0385504209.0...   \n",
       "1  http://images.amazon.com/images/P/0312195516.0...   \n",
       "2  http://images.amazon.com/images/P/0316666343.0...   \n",
       "3  http://images.amazon.com/images/P/0060928336.0...   \n",
       "4  http://images.amazon.com/images/P/0971880107.0...   \n",
       "\n",
       "                                           imageUrlL  \n",
       "0  http://images.amazon.com/images/P/0385504209.0...  \n",
       "1  http://images.amazon.com/images/P/0312195516.0...  \n",
       "2  http://images.amazon.com/images/P/0316666343.0...  \n",
       "3  http://images.amazon.com/images/P/0060928336.0...  \n",
       "4  http://images.amazon.com/images/P/0971880107.0...  "
      ]
     },
     "execution_count": 109,
     "metadata": {},
     "output_type": "execute_result"
    }
   ],
   "source": [
    "mrb_info_pds = mrb_info.toPandas()\n",
    "mrb_info_pds"
   ]
  },
  {
   "cell_type": "markdown",
   "metadata": {},
   "source": [
    "# Recommendations based on correlations\n",
    "Подсчитаем среднее значение оценки (рейтинга) каждой книги и количество отданных за нее голосов"
   ]
  },
  {
   "cell_type": "code",
   "execution_count": 110,
   "metadata": {
    "collapsed": true
   },
   "outputs": [],
   "source": [
    "av = ratings_info.groupBy('ISBN').agg(\n",
    "    pyspark.sql.functions.mean('bookRating').alias(\"Mean\"),\n",
    "    pyspark.sql.functions.count('bookRating').alias(\"ratingsCount\")\n",
    "  ).sort(col(\"ratingsCount\").desc())"
   ]
  },
  {
   "cell_type": "code",
   "execution_count": 44,
   "metadata": {},
   "outputs": [
    {
     "name": "stdout",
     "output_type": "stream",
     "text": [
      "+----------+------------------+------------+\n",
      "|      ISBN|              Mean|ratingsCount|\n",
      "+----------+------------------+------------+\n",
      "|0971880107|1.0195843325339728|        2502|\n",
      "|0316666343| 4.468725868725869|        1295|\n",
      "|0385504209| 4.652321630804077|         883|\n",
      "|0060928336| 3.448087431693989|         732|\n",
      "|0312195516| 4.334716459197787|         723|\n",
      "|044023722X| 3.187017001545595|         647|\n",
      "|0679781587| 4.381846635367762|         639|\n",
      "|0142001740| 4.219512195121951|         615|\n",
      "|067976402X| 3.255700325732899|         614|\n",
      "|0671027360| 3.718430034129693|         586|\n",
      "|0446672211| 4.105982905982906|         585|\n",
      "|059035342X| 4.900175131348512|         571|\n",
      "|0316601950|3.5933098591549295|         568|\n",
      "|0375727345| 3.039855072463768|         552|\n",
      "|044021145X|3.0756143667296785|         529|\n",
      "|0452282152| 4.218631178707224|         526|\n",
      "|0440214041|2.5239005736137665|         523|\n",
      "|0804106304|3.0635838150289016|         519|\n",
      "|0440211727|  2.97678916827853|         517|\n",
      "|0345337662| 3.535573122529644|         506|\n",
      "+----------+------------------+------------+\n",
      "only showing top 20 rows\n",
      "\n"
     ]
    }
   ],
   "source": [
    "av.show()"
   ]
  },
  {
   "cell_type": "markdown",
   "metadata": {},
   "source": [
    "Заметим, что книги с наибольшим количеством голосов вовсе не могут похвастаться наивысшим рейтингом, скорее даже наоборот, их рейтинг довольно-таки низок. Если рекомендовать книги, опираясь на количество голосов, а не на рейтинг книги, то с большой долей вероятности можно ошибиться в выдаче рекомендации, соответственно, пользователь рано или поздно перестанет доверять рекомендационной системе...    \n",
    "Вспомним, что в изначальной таблице рейтинга было много оценок книг, равных нулю. Предположим, что это могли быть ошибочный ввод данных или просто \"левые\" пользователи.  \n",
    "Для обеспечения статистической значимости исключим из выборки книги, имеющие менее 100 голосов и пользователей, поставивших менее 200 оценок."
   ]
  },
  {
   "cell_type": "code",
   "execution_count": 152,
   "metadata": {
    "collapsed": true
   },
   "outputs": [],
   "source": [
    "cut_books = ratings_info.filter(\"bookRating > 5\")"
   ]
  },
  {
   "cell_type": "markdown",
   "metadata": {},
   "source": [
    "Посмотрим, сколько оценок поставил каждый пользователь, для этого сгруппируем данные из таблицы рейтинга книг по идентификаторам пользователей."
   ]
  },
  {
   "cell_type": "code",
   "execution_count": 153,
   "metadata": {},
   "outputs": [
    {
     "name": "stdout",
     "output_type": "stream",
     "text": [
      "+------+-----+\n",
      "|userId|count|\n",
      "+------+-----+\n",
      "|277594|    1|\n",
      "|277840|    1|\n",
      "|278220|    2|\n",
      "|278659|    1|\n",
      "|  1436|   12|\n",
      "|  2136|   10|\n",
      "|  3959|    2|\n",
      "|  4032|    2|\n",
      "|  4821|    3|\n",
      "|  4937|    5|\n",
      "|  5325|    1|\n",
      "|  5925|    1|\n",
      "|  6613|    1|\n",
      "|  6731|   26|\n",
      "|  7711|    1|\n",
      "|  8433|    1|\n",
      "|  9030|    1|\n",
      "|  9583|    1|\n",
      "|  9586|    2|\n",
      "|  9993|    1|\n",
      "+------+-----+\n",
      "only showing top 20 rows\n",
      "\n"
     ]
    }
   ],
   "source": [
    "user_counts = ratings_info.groupBy(\"userId\").count()\n",
    "user_counts.show()"
   ]
  },
  {
   "cell_type": "code",
   "execution_count": 160,
   "metadata": {
    "collapsed": true
   },
   "outputs": [],
   "source": [
    "books_join_counts = user_counts.alias(\"uc\").join(ratings_info.alias('ri'), col(\"uc.userId\") == col(\"ri.userId\")).drop_duplicates()"
   ]
  },
  {
   "cell_type": "markdown",
   "metadata": {},
   "source": [
    "Заметим, что в данной таблице count - это количество оценок, поставленных пользователем всего, а не за конкретную книгу"
   ]
  },
  {
   "cell_type": "code",
   "execution_count": 161,
   "metadata": {},
   "outputs": [
    {
     "name": "stdout",
     "output_type": "stream",
     "text": [
      "+------+-----+------+----------+----------+\n",
      "|userId|count|userID|      ISBN|bookRating|\n",
      "+------+-----+------+----------+----------+\n",
      "|100010|   11|100010|0345396936|       0.0|\n",
      "|100010|   11|100010|0380764776|       0.0|\n",
      "|100010|   11|100010|0446608955|       0.0|\n",
      "|100010|   11|100010|0451170725|       0.0|\n",
      "|100010|   11|100010|0451186311|       0.0|\n",
      "|100010|   11|100010|0451187873|       0.0|\n",
      "|100010|   11|100010|0451190459|       0.0|\n",
      "|100010|   11|100010|0451192095|       0.0|\n",
      "|100010|   11|100010|0553297864|       0.0|\n",
      "|100010|   11|100010|0671009826|       0.0|\n",
      "|100010|   11|100010|0671743279|       0.0|\n",
      "|100140|    5|100140|0099278359|       2.0|\n",
      "|100140|    5|100140|0099456761|       8.0|\n",
      "|100140|    5|100140|0099727412|       7.0|\n",
      "|100140|    5|100140|0747265410|       4.0|\n",
      "|100140|    5|100140|0747557861|       6.0|\n",
      "|100227|   48|100227|0006514480|       8.0|\n",
      "|100227|   48|100227|0060090367|       0.0|\n",
      "|100227|   48|100227|0060549270|       0.0|\n",
      "|100227|   48|100227|0140282033|       0.0|\n",
      "+------+-----+------+----------+----------+\n",
      "only showing top 20 rows\n",
      "\n"
     ]
    }
   ],
   "source": [
    "books_join_counts.show()"
   ]
  },
  {
   "cell_type": "code",
   "execution_count": 136,
   "metadata": {
    "collapsed": true
   },
   "outputs": [],
   "source": [
    "b_f1 = books_join_counts.filter(\"count > 200\")"
   ]
  },
  {
   "cell_type": "code",
   "execution_count": 137,
   "metadata": {},
   "outputs": [
    {
     "name": "stdout",
     "output_type": "stream",
     "text": [
      "+------+-----+------+----------+----------+\n",
      "|userId|count|userID|      ISBN|bookRating|\n",
      "+------+-----+------+----------+----------+\n",
      "|104665|  453|104665|000649319X|       0.0|\n",
      "|104665|  453|104665|0060082194|       0.0|\n",
      "|104665|  453|104665|0060801115|       0.0|\n",
      "|104665|  453|104665|0060927216|       0.0|\n",
      "|104665|  453|104665|0060928336|       0.0|\n",
      "|104665|  453|104665|0061009059|       6.0|\n",
      "|104665|  453|104665|0061012475|       0.0|\n",
      "|104665|  453|104665|006101432X|       0.0|\n",
      "|104665|  453|104665|0061020362|       0.0|\n",
      "|104665|  453|104665|006103004X|       0.0|\n",
      "|104665|  453|104665|0061030651|       0.0|\n",
      "|104665|  453|104665|0061094129|       0.0|\n",
      "|104665|  453|104665|006251377X|       0.0|\n",
      "|104665|  453|104665|0064401847|       0.0|\n",
      "|104665|  453|104665|0064402312|       0.0|\n",
      "|104665|  453|104665|0064471047|       9.0|\n",
      "|104665|  453|104665|0066214440|       0.0|\n",
      "|104665|  453|104665|0140100857|       0.0|\n",
      "|104665|  453|104665|0140185216|       0.0|\n",
      "|104665|  453|104665|0140366016|       0.0|\n",
      "+------+-----+------+----------+----------+\n",
      "only showing top 20 rows\n",
      "\n"
     ]
    }
   ],
   "source": [
    "b_f1.show()"
   ]
  },
  {
   "cell_type": "markdown",
   "metadata": {},
   "source": [
    "Теперь, когда мы выбрали книги и пользователей, которые оценили более 200 книг, количество оценок каждого пользователя нам не нужно: удаляем этот столбец данных из таблицы"
   ]
  },
  {
   "cell_type": "code",
   "execution_count": 138,
   "metadata": {
    "collapsed": true
   },
   "outputs": [],
   "source": [
    "b_f1 = b_f1.drop('count')"
   ]
  },
  {
   "cell_type": "markdown",
   "metadata": {},
   "source": [
    "Посмотрим число голосов, отданное за каждую книгу"
   ]
  },
  {
   "cell_type": "code",
   "execution_count": 139,
   "metadata": {},
   "outputs": [
    {
     "name": "stdout",
     "output_type": "stream",
     "text": [
      "+----------+-----+\n",
      "|      ISBN|count|\n",
      "+----------+-----+\n",
      "|2080674722|    3|\n",
      "|3499134004|    1|\n",
      "|3548603203|   24|\n",
      "|880781112X|    3|\n",
      "|0738205737|    3|\n",
      "|0749317256|    1|\n",
      "|0515131520|   16|\n",
      "|8471662531|    1|\n",
      "|0441005470|    1|\n",
      "|0739417096|    7|\n",
      "|0767906373|    8|\n",
      "|0425087859|    3|\n",
      "|0553574566|   45|\n",
      "|0498024253|    2|\n",
      "|0395977894|   44|\n",
      "|0505522004|    5|\n",
      "|0425188787|   60|\n",
      "|0515137111|   58|\n",
      "|0767905385|  143|\n",
      "|0553580906|   41|\n",
      "+----------+-----+\n",
      "only showing top 20 rows\n",
      "\n"
     ]
    }
   ],
   "source": [
    "ratings_counts = ratings_info.groupBy(\"ISBN\").count()\n",
    "ratings_counts.show()"
   ]
  },
  {
   "cell_type": "code",
   "execution_count": 140,
   "metadata": {
    "collapsed": true
   },
   "outputs": [],
   "source": [
    "books_join_counts = ratings_counts.alias(\"rc\").join(b_f1.alias('b'), col(\"rc.ISBN\") == col(\"b.ISBN\")).drop_duplicates()"
   ]
  },
  {
   "cell_type": "code",
   "execution_count": 141,
   "metadata": {},
   "outputs": [
    {
     "name": "stdout",
     "output_type": "stream",
     "text": [
      "+----------+-----+------+------+----------+----------+\n",
      "|      ISBN|count|userId|userID|      ISBN|bookRating|\n",
      "+----------+-----+------+------+----------+----------+\n",
      "|0002257084|    1|261105|261105|0002257084|       0.0|\n",
      "|0004244117|    1|170184|170184|0004244117|      10.0|\n",
      "|0006161731|    3| 30509| 30509|0006161731|       0.0|\n",
      "|0006363997|    1|225232|225232|0006363997|       0.0|\n",
      "|0006550479|    1|137190|137190|0006550479|       8.0|\n",
      "|0007640617|    1|189334|189334|0007640617|       0.0|\n",
      "|0020444400|    1|207782|207782|0020444400|       9.0|\n",
      "|  00240036|    2|234597|234597|  00240036|       0.0|\n",
      "|0025483307|    1| 61619| 61619|0025483307|       0.0|\n",
      "|0028610881|    1|256402|256402|0028610881|       0.0|\n",
      "|0060131942|    1|170575|170575|0060131942|       0.0|\n",
      "|0060160772|   10|131046|131046|0060160772|       0.0|\n",
      "|0060160772|   10|136205|136205|0060160772|       0.0|\n",
      "|0060160772|   10| 36836| 36836|0060160772|       0.0|\n",
      "|0060160772|   10|230522|230522|0060160772|       0.0|\n",
      "|0060160772|   10|128835|128835|0060160772|      10.0|\n",
      "|0060160772|   10|124363|124363|0060160772|       0.0|\n",
      "|006017367X|    1| 60337| 60337|006017367X|       9.0|\n",
      "|0060176059|    8|142524|142524|0060176059|       8.0|\n",
      "|0060176059|    8| 36836| 36836|0060176059|       0.0|\n",
      "+----------+-----+------+------+----------+----------+\n",
      "only showing top 20 rows\n",
      "\n"
     ]
    }
   ],
   "source": [
    "books_join_counts.show()"
   ]
  },
  {
   "cell_type": "markdown",
   "metadata": {},
   "source": [
    "Исключим из нашей выборки те строки, для которых количество оценок книги меньше 100"
   ]
  },
  {
   "cell_type": "code",
   "execution_count": 143,
   "metadata": {
    "collapsed": true
   },
   "outputs": [],
   "source": [
    "b_f2 = books_join_counts.filter(\"count > 100\")"
   ]
  },
  {
   "cell_type": "code",
   "execution_count": 144,
   "metadata": {},
   "outputs": [
    {
     "name": "stdout",
     "output_type": "stream",
     "text": [
      "+----------+-----+------+------+----------+----------+\n",
      "|      ISBN|count|userId|userID|      ISBN|bookRating|\n",
      "+----------+-----+------+------+----------+----------+\n",
      "|0515135739|  102|262399|262399|0515135739|       0.0|\n",
      "|0515135739|  102| 28591| 28591|0515135739|       0.0|\n",
      "|0515135739|  102|108285|108285|0515135739|       0.0|\n",
      "|0515135739|  102|153662|153662|0515135739|       0.0|\n",
      "|0515135739|  102| 87746| 87746|0515135739|       0.0|\n",
      "|0515135739|  102| 69232| 69232|0515135739|       0.0|\n",
      "|0515135739|  102| 51094| 51094|0515135739|       0.0|\n",
      "|0515135739|  102|251613|251613|0515135739|       0.0|\n",
      "|0515135739|  102|233911|233911|0515135739|       0.0|\n",
      "|0515135739|  102|167471|167471|0515135739|       0.0|\n",
      "|0515135739|  102|107021|107021|0515135739|      10.0|\n",
      "|0515135739|  102|114988|114988|0515135739|       0.0|\n",
      "|0515135739|  102| 98741| 98741|0515135739|       0.0|\n",
      "|0515135739|  102|231237|231237|0515135739|       0.0|\n",
      "|0515135739|  102|252071|252071|0515135739|       0.0|\n",
      "|0515135739|  102|204522|204522|0515135739|       0.0|\n",
      "|0515135739|  102| 68555| 68555|0515135739|       0.0|\n",
      "|0515135739|  102|203799|203799|0515135739|       8.0|\n",
      "|0515135739|  102|114414|114414|0515135739|       0.0|\n",
      "|0515135739|  102|145619|145619|0515135739|       0.0|\n",
      "+----------+-----+------+------+----------+----------+\n",
      "only showing top 20 rows\n",
      "\n"
     ]
    }
   ],
   "source": [
    "b_f2.show()"
   ]
  },
  {
   "cell_type": "code",
   "execution_count": 146,
   "metadata": {
    "collapsed": true
   },
   "outputs": [],
   "source": [
    "b_f2 = b_f2.drop('count')"
   ]
  },
  {
   "cell_type": "code",
   "execution_count": null,
   "metadata": {
    "collapsed": true
   },
   "outputs": [],
   "source": [
    "rating_per_user = ratings_info.groupBy(\"userId\").count()\n",
    "rating_per_book = ratings_info.groupBy(\"bookRating\").count()\n",
    "\n",
    "user_f = rating_per_user.filter(rating_per_user[\"count\"] >= 200)\n",
    "book_f = rating_per_book.filter(rating_per_book[\"count\"] >= 100)\n",
    "\n",
    "ratings_filtered = ratings_info \\\n",
    "    .join(user_f, on=\"userId\", how='inner') \\\n",
    "    .join(book_f, on=\"bookRating\", how='inner') \\\n",
    "    .select(ratings_data.columns)\n",
    "    \n",
    "ratings_filtered.take(10)"
   ]
  },
  {
   "cell_type": "code",
   "execution_count": null,
   "metadata": {
    "collapsed": true
   },
   "outputs": [],
   "source": [
    "ratings_filtered2 = ratings_filtered.sample(False, 0.02, 12345).select(ratings_filtered[\"userId\"], ratings_data[\"ISBN\"], ratings_data[\"bookRating\"].cast(\"int\"))\n",
    "ratings_pivot2 = ratings_filtered2.repartition(\"userId\").groupBy(\"userId\").pivot(\"ISBN\").agg(first(\"bookRating\"))\n",
    "ratings_pivot2.columns"
   ]
  }
 ],
 "metadata": {
  "kernelspec": {
   "display_name": "Python 3",
   "language": "python",
   "name": "python3"
  },
  "language_info": {
   "codemirror_mode": {
    "name": "ipython",
    "version": 3
   },
   "file_extension": ".py",
   "mimetype": "text/x-python",
   "name": "python",
   "nbconvert_exporter": "python",
   "pygments_lexer": "ipython3",
   "version": "3.6.1"
  }
 },
 "nbformat": 4,
 "nbformat_minor": 2
}
